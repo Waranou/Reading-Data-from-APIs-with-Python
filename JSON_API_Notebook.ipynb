{
 "cells": [
  {
   "cell_type": "code",
   "execution_count": 81,
   "metadata": {},
   "outputs": [],
   "source": [
    "from urllib.request import urlopen\n",
    "import json"
   ]
  },
  {
   "cell_type": "code",
   "execution_count": 82,
   "metadata": {},
   "outputs": [],
   "source": [
    "url = 'https://www.data.qld.gov.au/api/3/action/datastore_search?resource_id=7afe7233-fae0-4024-bc98-3a72f05675bd&limit=50'\n",
    "url_result = urlopen(url)\n",
    "raw_data = url_result.read()\n",
    "json_data = json.loads(raw_data)\n",
    "\n",
    "# json_string = json.dumps(json_data)\n",
    "# print(json_string)"
   ]
  },
  {
   "cell_type": "code",
   "execution_count": 83,
   "metadata": {},
   "outputs": [
    {
     "name": "stdout",
     "output_type": "stream",
     "text": [
      "{'include_total': True, 'limit': 50, 'records_format': 'objects', 'resource_id': '7afe7233-fae0-4024-bc98-3a72f05675bd', 'total_estimation_threshold': None, 'records': [{'_id': 1, 'Site': 'abellpoint', 'Seconds': 1680530400, 'DateTime': '2023-04-04T00:00:00', 'Water Level': 1.888, 'Prediction': 1.858, 'Residual': 0.03, 'Latitude': -20.2608, 'Longitude': 148.7103}, {'_id': 2, 'Site': 'abellpoint', 'Seconds': 1680531000, 'DateTime': '2023-04-04T00:10:00', 'Water Level': 1.798, 'Prediction': 1.769, 'Residual': 0.029, 'Latitude': -20.2608, 'Longitude': 148.7103}, {'_id': 3, 'Site': 'abellpoint', 'Seconds': 1680531600, 'DateTime': '2023-04-04T00:20:00', 'Water Level': 1.706, 'Prediction': 1.679, 'Residual': 0.027, 'Latitude': -20.2608, 'Longitude': 148.7103}, {'_id': 4, 'Site': 'abellpoint', 'Seconds': 1680532200, 'DateTime': '2023-04-04T00:30:00', 'Water Level': 1.619, 'Prediction': 1.59, 'Residual': 0.029, 'Latitude': -20.2608, 'Longitude': 148.7103}, {'_id': 5, 'Site': 'abellpoint', 'Seconds': 1680532800, 'DateTime': '2023-04-04T00:40:00', 'Water Level': 1.526, 'Prediction': 1.5, 'Residual': 0.026, 'Latitude': -20.2608, 'Longitude': 148.7103}, {'_id': 6, 'Site': 'abellpoint', 'Seconds': 1680533400, 'DateTime': '2023-04-04T00:50:00', 'Water Level': 1.422, 'Prediction': 1.412, 'Residual': 0.01, 'Latitude': -20.2608, 'Longitude': 148.7103}, {'_id': 7, 'Site': 'abellpoint', 'Seconds': 1680534000, 'DateTime': '2023-04-04T01:00:00', 'Water Level': 1.334, 'Prediction': 1.327, 'Residual': 0.007, 'Latitude': -20.2608, 'Longitude': 148.7103}, {'_id': 8, 'Site': 'abellpoint', 'Seconds': 1680534600, 'DateTime': '2023-04-04T01:10:00', 'Water Level': 1.248, 'Prediction': 1.244, 'Residual': 0.004, 'Latitude': -20.2608, 'Longitude': 148.7103}, {'_id': 9, 'Site': 'abellpoint', 'Seconds': 1680535200, 'DateTime': '2023-04-04T01:20:00', 'Water Level': 1.181, 'Prediction': 1.166, 'Residual': 0.015, 'Latitude': -20.2608, 'Longitude': 148.7103}, {'_id': 10, 'Site': 'abellpoint', 'Seconds': 1680535800, 'DateTime': '2023-04-04T01:30:00', 'Water Level': 1.115, 'Prediction': 1.094, 'Residual': 0.021, 'Latitude': -20.2608, 'Longitude': 148.7103}, {'_id': 11, 'Site': 'abellpoint', 'Seconds': 1680536400, 'DateTime': '2023-04-04T01:40:00', 'Water Level': 1.041, 'Prediction': 1.028, 'Residual': 0.013, 'Latitude': -20.2608, 'Longitude': 148.7103}, {'_id': 12, 'Site': 'abellpoint', 'Seconds': 1680537000, 'DateTime': '2023-04-04T01:50:00', 'Water Level': 0.98, 'Prediction': 0.969, 'Residual': 0.011, 'Latitude': -20.2608, 'Longitude': 148.7103}, {'_id': 13, 'Site': 'abellpoint', 'Seconds': 1680537600, 'DateTime': '2023-04-04T02:00:00', 'Water Level': 0.925, 'Prediction': 0.919, 'Residual': 0.006, 'Latitude': -20.2608, 'Longitude': 148.7103}, {'_id': 14, 'Site': 'abellpoint', 'Seconds': 1680538200, 'DateTime': '2023-04-04T02:10:00', 'Water Level': 0.869, 'Prediction': 0.875, 'Residual': -0.006, 'Latitude': -20.2608, 'Longitude': 148.7103}, {'_id': 15, 'Site': 'abellpoint', 'Seconds': 1680538800, 'DateTime': '2023-04-04T02:20:00', 'Water Level': 0.822, 'Prediction': 0.838, 'Residual': -0.016, 'Latitude': -20.2608, 'Longitude': 148.7103}, {'_id': 16, 'Site': 'abellpoint', 'Seconds': 1680539400, 'DateTime': '2023-04-04T02:30:00', 'Water Level': 0.813, 'Prediction': 0.81, 'Residual': 0.003, 'Latitude': -20.2608, 'Longitude': 148.7103}, {'_id': 17, 'Site': 'abellpoint', 'Seconds': 1680540000, 'DateTime': '2023-04-04T02:40:00', 'Water Level': 0.777, 'Prediction': 0.789, 'Residual': -0.012, 'Latitude': -20.2608, 'Longitude': 148.7103}, {'_id': 18, 'Site': 'abellpoint', 'Seconds': 1680540600, 'DateTime': '2023-04-04T02:50:00', 'Water Level': 0.789, 'Prediction': 0.774, 'Residual': 0.015, 'Latitude': -20.2608, 'Longitude': 148.7103}, {'_id': 19, 'Site': 'abellpoint', 'Seconds': 1680541200, 'DateTime': '2023-04-04T03:00:00', 'Water Level': 0.778, 'Prediction': 0.768, 'Residual': 0.01, 'Latitude': -20.2608, 'Longitude': 148.7103}, {'_id': 20, 'Site': 'abellpoint', 'Seconds': 1680541800, 'DateTime': '2023-04-04T03:10:00', 'Water Level': 0.765, 'Prediction': 0.769, 'Residual': -0.004, 'Latitude': -20.2608, 'Longitude': 148.7103}, {'_id': 21, 'Site': 'abellpoint', 'Seconds': 1680542400, 'DateTime': '2023-04-04T03:20:00', 'Water Level': 0.746, 'Prediction': 0.778, 'Residual': -0.032, 'Latitude': -20.2608, 'Longitude': 148.7103}, {'_id': 22, 'Site': 'abellpoint', 'Seconds': 1680543000, 'DateTime': '2023-04-04T03:30:00', 'Water Level': 0.756, 'Prediction': 0.796, 'Residual': -0.04, 'Latitude': -20.2608, 'Longitude': 148.7103}, {'_id': 23, 'Site': 'abellpoint', 'Seconds': 1680543600, 'DateTime': '2023-04-04T03:40:00', 'Water Level': 0.801, 'Prediction': 0.823, 'Residual': -0.022, 'Latitude': -20.2608, 'Longitude': 148.7103}, {'_id': 24, 'Site': 'abellpoint', 'Seconds': 1680544200, 'DateTime': '2023-04-04T03:50:00', 'Water Level': 0.842, 'Prediction': 0.86, 'Residual': -0.018, 'Latitude': -20.2608, 'Longitude': 148.7103}, {'_id': 25, 'Site': 'abellpoint', 'Seconds': 1680544800, 'DateTime': '2023-04-04T04:00:00', 'Water Level': 0.838, 'Prediction': 0.906, 'Residual': -0.068, 'Latitude': -20.2608, 'Longitude': 148.7103}, {'_id': 26, 'Site': 'abellpoint', 'Seconds': 1680545400, 'DateTime': '2023-04-04T04:10:00', 'Water Level': 0.916, 'Prediction': 0.962, 'Residual': -0.046, 'Latitude': -20.2608, 'Longitude': 148.7103}, {'_id': 27, 'Site': 'abellpoint', 'Seconds': 1680546000, 'DateTime': '2023-04-04T04:20:00', 'Water Level': 0.989, 'Prediction': 1.027, 'Residual': -0.038, 'Latitude': -20.2608, 'Longitude': 148.7103}, {'_id': 28, 'Site': 'abellpoint', 'Seconds': 1680546600, 'DateTime': '2023-04-04T04:30:00', 'Water Level': 1.064, 'Prediction': 1.1, 'Residual': -0.036, 'Latitude': -20.2608, 'Longitude': 148.7103}, {'_id': 29, 'Site': 'abellpoint', 'Seconds': 1680547200, 'DateTime': '2023-04-04T04:40:00', 'Water Level': 1.124, 'Prediction': 1.181, 'Residual': -0.057, 'Latitude': -20.2608, 'Longitude': 148.7103}, {'_id': 30, 'Site': 'abellpoint', 'Seconds': 1680547800, 'DateTime': '2023-04-04T04:50:00', 'Water Level': 1.217, 'Prediction': 1.267, 'Residual': -0.05, 'Latitude': -20.2608, 'Longitude': 148.7103}, {'_id': 31, 'Site': 'abellpoint', 'Seconds': 1680548400, 'DateTime': '2023-04-04T05:00:00', 'Water Level': 1.295, 'Prediction': 1.357, 'Residual': -0.062, 'Latitude': -20.2608, 'Longitude': 148.7103}, {'_id': 32, 'Site': 'abellpoint', 'Seconds': 1680549000, 'DateTime': '2023-04-04T05:10:00', 'Water Level': 1.397, 'Prediction': 1.45, 'Residual': -0.053, 'Latitude': -20.2608, 'Longitude': 148.7103}, {'_id': 33, 'Site': 'abellpoint', 'Seconds': 1680549600, 'DateTime': '2023-04-04T05:20:00', 'Water Level': 1.492, 'Prediction': 1.546, 'Residual': -0.054, 'Latitude': -20.2608, 'Longitude': 148.7103}, {'_id': 34, 'Site': 'abellpoint', 'Seconds': 1680550200, 'DateTime': '2023-04-04T05:30:00', 'Water Level': 1.594, 'Prediction': 1.642, 'Residual': -0.048, 'Latitude': -20.2608, 'Longitude': 148.7103}, {'_id': 35, 'Site': 'abellpoint', 'Seconds': 1680550800, 'DateTime': '2023-04-04T05:40:00', 'Water Level': 1.69, 'Prediction': 1.739, 'Residual': -0.049, 'Latitude': -20.2608, 'Longitude': 148.7103}, {'_id': 36, 'Site': 'abellpoint', 'Seconds': 1680551400, 'DateTime': '2023-04-04T05:50:00', 'Water Level': 1.767, 'Prediction': 1.838, 'Residual': -0.071, 'Latitude': -20.2608, 'Longitude': 148.7103}, {'_id': 37, 'Site': 'abellpoint', 'Seconds': 1680552000, 'DateTime': '2023-04-04T06:00:00', 'Water Level': 1.861, 'Prediction': 1.936, 'Residual': -0.075, 'Latitude': -20.2608, 'Longitude': 148.7103}, {'_id': 38, 'Site': 'abellpoint', 'Seconds': 1680552600, 'DateTime': '2023-04-04T06:10:00', 'Water Level': 1.971, 'Prediction': 2.036, 'Residual': -0.065, 'Latitude': -20.2608, 'Longitude': 148.7103}, {'_id': 39, 'Site': 'abellpoint', 'Seconds': 1680553200, 'DateTime': '2023-04-04T06:20:00', 'Water Level': 2.048, 'Prediction': 2.138, 'Residual': -0.09, 'Latitude': -20.2608, 'Longitude': 148.7103}, {'_id': 40, 'Site': 'abellpoint', 'Seconds': 1680553800, 'DateTime': '2023-04-04T06:30:00', 'Water Level': 2.147, 'Prediction': 2.238, 'Residual': -0.091, 'Latitude': -20.2608, 'Longitude': 148.7103}, {'_id': 41, 'Site': 'abellpoint', 'Seconds': 1680554400, 'DateTime': '2023-04-04T06:40:00', 'Water Level': 2.221, 'Prediction': 2.339, 'Residual': -0.118, 'Latitude': -20.2608, 'Longitude': 148.7103}, {'_id': 42, 'Site': 'abellpoint', 'Seconds': 1680555000, 'DateTime': '2023-04-04T06:50:00', 'Water Level': 2.333, 'Prediction': 2.439, 'Residual': -0.106, 'Latitude': -20.2608, 'Longitude': 148.7103}, {'_id': 43, 'Site': 'abellpoint', 'Seconds': 1680555600, 'DateTime': '2023-04-04T07:00:00', 'Water Level': 2.441, 'Prediction': 2.536, 'Residual': -0.095, 'Latitude': -20.2608, 'Longitude': 148.7103}, {'_id': 44, 'Site': 'abellpoint', 'Seconds': 1680556200, 'DateTime': '2023-04-04T07:10:00', 'Water Level': 2.544, 'Prediction': 2.63, 'Residual': -0.086, 'Latitude': -20.2608, 'Longitude': 148.7103}, {'_id': 45, 'Site': 'abellpoint', 'Seconds': 1680556800, 'DateTime': '2023-04-04T07:20:00', 'Water Level': 2.641, 'Prediction': 2.72, 'Residual': -0.079, 'Latitude': -20.2608, 'Longitude': 148.7103}, {'_id': 46, 'Site': 'abellpoint', 'Seconds': 1680557400, 'DateTime': '2023-04-04T07:30:00', 'Water Level': 2.72, 'Prediction': 2.803, 'Residual': -0.083, 'Latitude': -20.2608, 'Longitude': 148.7103}, {'_id': 47, 'Site': 'abellpoint', 'Seconds': 1680558000, 'DateTime': '2023-04-04T07:40:00', 'Water Level': 2.814, 'Prediction': 2.878, 'Residual': -0.064, 'Latitude': -20.2608, 'Longitude': 148.7103}, {'_id': 48, 'Site': 'abellpoint', 'Seconds': 1680558600, 'DateTime': '2023-04-04T07:50:00', 'Water Level': 2.881, 'Prediction': 2.947, 'Residual': -0.066, 'Latitude': -20.2608, 'Longitude': 148.7103}, {'_id': 49, 'Site': 'abellpoint', 'Seconds': 1680559200, 'DateTime': '2023-04-04T08:00:00', 'Water Level': 2.943, 'Prediction': 3.007, 'Residual': -0.064, 'Latitude': -20.2608, 'Longitude': 148.7103}, {'_id': 50, 'Site': 'abellpoint', 'Seconds': 1680559800, 'DateTime': '2023-04-04T08:10:00', 'Water Level': 2.973, 'Prediction': 3.06, 'Residual': -0.087, 'Latitude': -20.2608, 'Longitude': 148.7103}], 'fields': [{'id': '_id', 'type': 'int'}, {'id': 'Site', 'type': 'text'}, {'id': 'Seconds', 'type': 'numeric'}, {'id': 'DateTime', 'type': 'timestamp'}, {'id': 'Water Level', 'type': 'numeric'}, {'id': 'Prediction', 'type': 'numeric'}, {'id': 'Residual', 'type': 'numeric'}, {'id': 'Latitude', 'type': 'numeric'}, {'id': 'Longitude', 'type': 'numeric'}], '_links': {'start': '/api/3/action/datastore_search?limit=50&resource_id=7afe7233-fae0-4024-bc98-3a72f05675bd', 'next': '/api/3/action/datastore_search?limit=50&resource_id=7afe7233-fae0-4024-bc98-3a72f05675bd&offset=50'}, 'total': 65265, 'total_was_estimated': False}\n"
     ]
    }
   ],
   "source": [
    "# print(json_data['help'])\n",
    "result = json_data['result']\n",
    "print(result)"
   ]
  },
  {
   "cell_type": "code",
   "execution_count": 84,
   "metadata": {},
   "outputs": [
    {
     "name": "stdout",
     "output_type": "stream",
     "text": [
      "[{'_id': 1, 'Site': 'abellpoint', 'Seconds': 1680530400, 'DateTime': '2023-04-04T00:00:00', 'Water Level': 1.888, 'Prediction': 1.858, 'Residual': 0.03, 'Latitude': -20.2608, 'Longitude': 148.7103}, {'_id': 2, 'Site': 'abellpoint', 'Seconds': 1680531000, 'DateTime': '2023-04-04T00:10:00', 'Water Level': 1.798, 'Prediction': 1.769, 'Residual': 0.029, 'Latitude': -20.2608, 'Longitude': 148.7103}, {'_id': 3, 'Site': 'abellpoint', 'Seconds': 1680531600, 'DateTime': '2023-04-04T00:20:00', 'Water Level': 1.706, 'Prediction': 1.679, 'Residual': 0.027, 'Latitude': -20.2608, 'Longitude': 148.7103}, {'_id': 4, 'Site': 'abellpoint', 'Seconds': 1680532200, 'DateTime': '2023-04-04T00:30:00', 'Water Level': 1.619, 'Prediction': 1.59, 'Residual': 0.029, 'Latitude': -20.2608, 'Longitude': 148.7103}, {'_id': 5, 'Site': 'abellpoint', 'Seconds': 1680532800, 'DateTime': '2023-04-04T00:40:00', 'Water Level': 1.526, 'Prediction': 1.5, 'Residual': 0.026, 'Latitude': -20.2608, 'Longitude': 148.7103}, {'_id': 6, 'Site': 'abellpoint', 'Seconds': 1680533400, 'DateTime': '2023-04-04T00:50:00', 'Water Level': 1.422, 'Prediction': 1.412, 'Residual': 0.01, 'Latitude': -20.2608, 'Longitude': 148.7103}, {'_id': 7, 'Site': 'abellpoint', 'Seconds': 1680534000, 'DateTime': '2023-04-04T01:00:00', 'Water Level': 1.334, 'Prediction': 1.327, 'Residual': 0.007, 'Latitude': -20.2608, 'Longitude': 148.7103}, {'_id': 8, 'Site': 'abellpoint', 'Seconds': 1680534600, 'DateTime': '2023-04-04T01:10:00', 'Water Level': 1.248, 'Prediction': 1.244, 'Residual': 0.004, 'Latitude': -20.2608, 'Longitude': 148.7103}, {'_id': 9, 'Site': 'abellpoint', 'Seconds': 1680535200, 'DateTime': '2023-04-04T01:20:00', 'Water Level': 1.181, 'Prediction': 1.166, 'Residual': 0.015, 'Latitude': -20.2608, 'Longitude': 148.7103}, {'_id': 10, 'Site': 'abellpoint', 'Seconds': 1680535800, 'DateTime': '2023-04-04T01:30:00', 'Water Level': 1.115, 'Prediction': 1.094, 'Residual': 0.021, 'Latitude': -20.2608, 'Longitude': 148.7103}, {'_id': 11, 'Site': 'abellpoint', 'Seconds': 1680536400, 'DateTime': '2023-04-04T01:40:00', 'Water Level': 1.041, 'Prediction': 1.028, 'Residual': 0.013, 'Latitude': -20.2608, 'Longitude': 148.7103}, {'_id': 12, 'Site': 'abellpoint', 'Seconds': 1680537000, 'DateTime': '2023-04-04T01:50:00', 'Water Level': 0.98, 'Prediction': 0.969, 'Residual': 0.011, 'Latitude': -20.2608, 'Longitude': 148.7103}, {'_id': 13, 'Site': 'abellpoint', 'Seconds': 1680537600, 'DateTime': '2023-04-04T02:00:00', 'Water Level': 0.925, 'Prediction': 0.919, 'Residual': 0.006, 'Latitude': -20.2608, 'Longitude': 148.7103}, {'_id': 14, 'Site': 'abellpoint', 'Seconds': 1680538200, 'DateTime': '2023-04-04T02:10:00', 'Water Level': 0.869, 'Prediction': 0.875, 'Residual': -0.006, 'Latitude': -20.2608, 'Longitude': 148.7103}, {'_id': 15, 'Site': 'abellpoint', 'Seconds': 1680538800, 'DateTime': '2023-04-04T02:20:00', 'Water Level': 0.822, 'Prediction': 0.838, 'Residual': -0.016, 'Latitude': -20.2608, 'Longitude': 148.7103}, {'_id': 16, 'Site': 'abellpoint', 'Seconds': 1680539400, 'DateTime': '2023-04-04T02:30:00', 'Water Level': 0.813, 'Prediction': 0.81, 'Residual': 0.003, 'Latitude': -20.2608, 'Longitude': 148.7103}, {'_id': 17, 'Site': 'abellpoint', 'Seconds': 1680540000, 'DateTime': '2023-04-04T02:40:00', 'Water Level': 0.777, 'Prediction': 0.789, 'Residual': -0.012, 'Latitude': -20.2608, 'Longitude': 148.7103}, {'_id': 18, 'Site': 'abellpoint', 'Seconds': 1680540600, 'DateTime': '2023-04-04T02:50:00', 'Water Level': 0.789, 'Prediction': 0.774, 'Residual': 0.015, 'Latitude': -20.2608, 'Longitude': 148.7103}, {'_id': 19, 'Site': 'abellpoint', 'Seconds': 1680541200, 'DateTime': '2023-04-04T03:00:00', 'Water Level': 0.778, 'Prediction': 0.768, 'Residual': 0.01, 'Latitude': -20.2608, 'Longitude': 148.7103}, {'_id': 20, 'Site': 'abellpoint', 'Seconds': 1680541800, 'DateTime': '2023-04-04T03:10:00', 'Water Level': 0.765, 'Prediction': 0.769, 'Residual': -0.004, 'Latitude': -20.2608, 'Longitude': 148.7103}, {'_id': 21, 'Site': 'abellpoint', 'Seconds': 1680542400, 'DateTime': '2023-04-04T03:20:00', 'Water Level': 0.746, 'Prediction': 0.778, 'Residual': -0.032, 'Latitude': -20.2608, 'Longitude': 148.7103}, {'_id': 22, 'Site': 'abellpoint', 'Seconds': 1680543000, 'DateTime': '2023-04-04T03:30:00', 'Water Level': 0.756, 'Prediction': 0.796, 'Residual': -0.04, 'Latitude': -20.2608, 'Longitude': 148.7103}, {'_id': 23, 'Site': 'abellpoint', 'Seconds': 1680543600, 'DateTime': '2023-04-04T03:40:00', 'Water Level': 0.801, 'Prediction': 0.823, 'Residual': -0.022, 'Latitude': -20.2608, 'Longitude': 148.7103}, {'_id': 24, 'Site': 'abellpoint', 'Seconds': 1680544200, 'DateTime': '2023-04-04T03:50:00', 'Water Level': 0.842, 'Prediction': 0.86, 'Residual': -0.018, 'Latitude': -20.2608, 'Longitude': 148.7103}, {'_id': 25, 'Site': 'abellpoint', 'Seconds': 1680544800, 'DateTime': '2023-04-04T04:00:00', 'Water Level': 0.838, 'Prediction': 0.906, 'Residual': -0.068, 'Latitude': -20.2608, 'Longitude': 148.7103}, {'_id': 26, 'Site': 'abellpoint', 'Seconds': 1680545400, 'DateTime': '2023-04-04T04:10:00', 'Water Level': 0.916, 'Prediction': 0.962, 'Residual': -0.046, 'Latitude': -20.2608, 'Longitude': 148.7103}, {'_id': 27, 'Site': 'abellpoint', 'Seconds': 1680546000, 'DateTime': '2023-04-04T04:20:00', 'Water Level': 0.989, 'Prediction': 1.027, 'Residual': -0.038, 'Latitude': -20.2608, 'Longitude': 148.7103}, {'_id': 28, 'Site': 'abellpoint', 'Seconds': 1680546600, 'DateTime': '2023-04-04T04:30:00', 'Water Level': 1.064, 'Prediction': 1.1, 'Residual': -0.036, 'Latitude': -20.2608, 'Longitude': 148.7103}, {'_id': 29, 'Site': 'abellpoint', 'Seconds': 1680547200, 'DateTime': '2023-04-04T04:40:00', 'Water Level': 1.124, 'Prediction': 1.181, 'Residual': -0.057, 'Latitude': -20.2608, 'Longitude': 148.7103}, {'_id': 30, 'Site': 'abellpoint', 'Seconds': 1680547800, 'DateTime': '2023-04-04T04:50:00', 'Water Level': 1.217, 'Prediction': 1.267, 'Residual': -0.05, 'Latitude': -20.2608, 'Longitude': 148.7103}, {'_id': 31, 'Site': 'abellpoint', 'Seconds': 1680548400, 'DateTime': '2023-04-04T05:00:00', 'Water Level': 1.295, 'Prediction': 1.357, 'Residual': -0.062, 'Latitude': -20.2608, 'Longitude': 148.7103}, {'_id': 32, 'Site': 'abellpoint', 'Seconds': 1680549000, 'DateTime': '2023-04-04T05:10:00', 'Water Level': 1.397, 'Prediction': 1.45, 'Residual': -0.053, 'Latitude': -20.2608, 'Longitude': 148.7103}, {'_id': 33, 'Site': 'abellpoint', 'Seconds': 1680549600, 'DateTime': '2023-04-04T05:20:00', 'Water Level': 1.492, 'Prediction': 1.546, 'Residual': -0.054, 'Latitude': -20.2608, 'Longitude': 148.7103}, {'_id': 34, 'Site': 'abellpoint', 'Seconds': 1680550200, 'DateTime': '2023-04-04T05:30:00', 'Water Level': 1.594, 'Prediction': 1.642, 'Residual': -0.048, 'Latitude': -20.2608, 'Longitude': 148.7103}, {'_id': 35, 'Site': 'abellpoint', 'Seconds': 1680550800, 'DateTime': '2023-04-04T05:40:00', 'Water Level': 1.69, 'Prediction': 1.739, 'Residual': -0.049, 'Latitude': -20.2608, 'Longitude': 148.7103}, {'_id': 36, 'Site': 'abellpoint', 'Seconds': 1680551400, 'DateTime': '2023-04-04T05:50:00', 'Water Level': 1.767, 'Prediction': 1.838, 'Residual': -0.071, 'Latitude': -20.2608, 'Longitude': 148.7103}, {'_id': 37, 'Site': 'abellpoint', 'Seconds': 1680552000, 'DateTime': '2023-04-04T06:00:00', 'Water Level': 1.861, 'Prediction': 1.936, 'Residual': -0.075, 'Latitude': -20.2608, 'Longitude': 148.7103}, {'_id': 38, 'Site': 'abellpoint', 'Seconds': 1680552600, 'DateTime': '2023-04-04T06:10:00', 'Water Level': 1.971, 'Prediction': 2.036, 'Residual': -0.065, 'Latitude': -20.2608, 'Longitude': 148.7103}, {'_id': 39, 'Site': 'abellpoint', 'Seconds': 1680553200, 'DateTime': '2023-04-04T06:20:00', 'Water Level': 2.048, 'Prediction': 2.138, 'Residual': -0.09, 'Latitude': -20.2608, 'Longitude': 148.7103}, {'_id': 40, 'Site': 'abellpoint', 'Seconds': 1680553800, 'DateTime': '2023-04-04T06:30:00', 'Water Level': 2.147, 'Prediction': 2.238, 'Residual': -0.091, 'Latitude': -20.2608, 'Longitude': 148.7103}, {'_id': 41, 'Site': 'abellpoint', 'Seconds': 1680554400, 'DateTime': '2023-04-04T06:40:00', 'Water Level': 2.221, 'Prediction': 2.339, 'Residual': -0.118, 'Latitude': -20.2608, 'Longitude': 148.7103}, {'_id': 42, 'Site': 'abellpoint', 'Seconds': 1680555000, 'DateTime': '2023-04-04T06:50:00', 'Water Level': 2.333, 'Prediction': 2.439, 'Residual': -0.106, 'Latitude': -20.2608, 'Longitude': 148.7103}, {'_id': 43, 'Site': 'abellpoint', 'Seconds': 1680555600, 'DateTime': '2023-04-04T07:00:00', 'Water Level': 2.441, 'Prediction': 2.536, 'Residual': -0.095, 'Latitude': -20.2608, 'Longitude': 148.7103}, {'_id': 44, 'Site': 'abellpoint', 'Seconds': 1680556200, 'DateTime': '2023-04-04T07:10:00', 'Water Level': 2.544, 'Prediction': 2.63, 'Residual': -0.086, 'Latitude': -20.2608, 'Longitude': 148.7103}, {'_id': 45, 'Site': 'abellpoint', 'Seconds': 1680556800, 'DateTime': '2023-04-04T07:20:00', 'Water Level': 2.641, 'Prediction': 2.72, 'Residual': -0.079, 'Latitude': -20.2608, 'Longitude': 148.7103}, {'_id': 46, 'Site': 'abellpoint', 'Seconds': 1680557400, 'DateTime': '2023-04-04T07:30:00', 'Water Level': 2.72, 'Prediction': 2.803, 'Residual': -0.083, 'Latitude': -20.2608, 'Longitude': 148.7103}, {'_id': 47, 'Site': 'abellpoint', 'Seconds': 1680558000, 'DateTime': '2023-04-04T07:40:00', 'Water Level': 2.814, 'Prediction': 2.878, 'Residual': -0.064, 'Latitude': -20.2608, 'Longitude': 148.7103}, {'_id': 48, 'Site': 'abellpoint', 'Seconds': 1680558600, 'DateTime': '2023-04-04T07:50:00', 'Water Level': 2.881, 'Prediction': 2.947, 'Residual': -0.066, 'Latitude': -20.2608, 'Longitude': 148.7103}, {'_id': 49, 'Site': 'abellpoint', 'Seconds': 1680559200, 'DateTime': '2023-04-04T08:00:00', 'Water Level': 2.943, 'Prediction': 3.007, 'Residual': -0.064, 'Latitude': -20.2608, 'Longitude': 148.7103}, {'_id': 50, 'Site': 'abellpoint', 'Seconds': 1680559800, 'DateTime': '2023-04-04T08:10:00', 'Water Level': 2.973, 'Prediction': 3.06, 'Residual': -0.087, 'Latitude': -20.2608, 'Longitude': 148.7103}]\n"
     ]
    }
   ],
   "source": [
    "records = result['records']\n",
    "print(records)"
   ]
  },
  {
   "cell_type": "code",
   "execution_count": 85,
   "metadata": {},
   "outputs": [
    {
     "name": "stdout",
     "output_type": "stream",
     "text": [
      "abellpoint\n",
      "2023-04-04T00:10:00\n",
      "1.798\n",
      "1.769\n",
      "0.029\n"
     ]
    }
   ],
   "source": [
    "first_record = records[1]\n",
    "site         = first_record['Site']\n",
    "dateTime    = first_record['DateTime']\n",
    "waterLevel  = first_record['Water Level']\n",
    "prediction   = first_record['Prediction']\n",
    "residual     = first_record['Residual']\n",
    "\n",
    "print(site) \n",
    "print(dateTime) \n",
    "print(waterLevel) \n",
    "print(prediction) \n",
    "print(residual) "
   ]
  },
  {
   "cell_type": "code",
   "execution_count": 86,
   "metadata": {},
   "outputs": [
    {
     "name": "stdout",
     "output_type": "stream",
     "text": [
      "[['abellpoint', '2023-04-04T00:00:00', 1.888, 1.858, 0.03], ['abellpoint', '2023-04-04T00:10:00', 1.798, 1.769, 0.029], ['abellpoint', '2023-04-04T00:20:00', 1.706, 1.679, 0.027], ['abellpoint', '2023-04-04T00:30:00', 1.619, 1.59, 0.029], ['abellpoint', '2023-04-04T00:40:00', 1.526, 1.5, 0.026], ['abellpoint', '2023-04-04T00:50:00', 1.422, 1.412, 0.01], ['abellpoint', '2023-04-04T01:00:00', 1.334, 1.327, 0.007], ['abellpoint', '2023-04-04T01:10:00', 1.248, 1.244, 0.004], ['abellpoint', '2023-04-04T01:20:00', 1.181, 1.166, 0.015], ['abellpoint', '2023-04-04T01:30:00', 1.115, 1.094, 0.021], ['abellpoint', '2023-04-04T01:40:00', 1.041, 1.028, 0.013], ['abellpoint', '2023-04-04T01:50:00', 0.98, 0.969, 0.011], ['abellpoint', '2023-04-04T02:00:00', 0.925, 0.919, 0.006], ['abellpoint', '2023-04-04T02:10:00', 0.869, 0.875, -0.006], ['abellpoint', '2023-04-04T02:20:00', 0.822, 0.838, -0.016], ['abellpoint', '2023-04-04T02:30:00', 0.813, 0.81, 0.003], ['abellpoint', '2023-04-04T02:40:00', 0.777, 0.789, -0.012], ['abellpoint', '2023-04-04T02:50:00', 0.789, 0.774, 0.015], ['abellpoint', '2023-04-04T03:00:00', 0.778, 0.768, 0.01], ['abellpoint', '2023-04-04T03:10:00', 0.765, 0.769, -0.004], ['abellpoint', '2023-04-04T03:20:00', 0.746, 0.778, -0.032], ['abellpoint', '2023-04-04T03:30:00', 0.756, 0.796, -0.04], ['abellpoint', '2023-04-04T03:40:00', 0.801, 0.823, -0.022], ['abellpoint', '2023-04-04T03:50:00', 0.842, 0.86, -0.018], ['abellpoint', '2023-04-04T04:00:00', 0.838, 0.906, -0.068], ['abellpoint', '2023-04-04T04:10:00', 0.916, 0.962, -0.046], ['abellpoint', '2023-04-04T04:20:00', 0.989, 1.027, -0.038], ['abellpoint', '2023-04-04T04:30:00', 1.064, 1.1, -0.036], ['abellpoint', '2023-04-04T04:40:00', 1.124, 1.181, -0.057], ['abellpoint', '2023-04-04T04:50:00', 1.217, 1.267, -0.05], ['abellpoint', '2023-04-04T05:00:00', 1.295, 1.357, -0.062], ['abellpoint', '2023-04-04T05:10:00', 1.397, 1.45, -0.053], ['abellpoint', '2023-04-04T05:20:00', 1.492, 1.546, -0.054], ['abellpoint', '2023-04-04T05:30:00', 1.594, 1.642, -0.048], ['abellpoint', '2023-04-04T05:40:00', 1.69, 1.739, -0.049], ['abellpoint', '2023-04-04T05:50:00', 1.767, 1.838, -0.071], ['abellpoint', '2023-04-04T06:00:00', 1.861, 1.936, -0.075], ['abellpoint', '2023-04-04T06:10:00', 1.971, 2.036, -0.065], ['abellpoint', '2023-04-04T06:20:00', 2.048, 2.138, -0.09], ['abellpoint', '2023-04-04T06:30:00', 2.147, 2.238, -0.091], ['abellpoint', '2023-04-04T06:40:00', 2.221, 2.339, -0.118], ['abellpoint', '2023-04-04T06:50:00', 2.333, 2.439, -0.106], ['abellpoint', '2023-04-04T07:00:00', 2.441, 2.536, -0.095], ['abellpoint', '2023-04-04T07:10:00', 2.544, 2.63, -0.086], ['abellpoint', '2023-04-04T07:20:00', 2.641, 2.72, -0.079], ['abellpoint', '2023-04-04T07:30:00', 2.72, 2.803, -0.083], ['abellpoint', '2023-04-04T07:40:00', 2.814, 2.878, -0.064], ['abellpoint', '2023-04-04T07:50:00', 2.881, 2.947, -0.066], ['abellpoint', '2023-04-04T08:00:00', 2.943, 3.007, -0.064], ['abellpoint', '2023-04-04T08:10:00', 2.973, 3.06, -0.087]]\n"
     ]
    }
   ],
   "source": [
    "records_data = []           #create an empty array\n",
    "for record in records:      #for each item in records\n",
    "    record_data = [         #create an array\n",
    "        record['Site'],     #containing the all values we want\n",
    "        record['DateTime'],\n",
    "        record['Water Level'],\n",
    "        record['Prediction'],\n",
    "        record['Residual']\n",
    "    ]\n",
    "    records_data.append(record_data)  #then add the array to our 1st array\n",
    "print(records_data)"
   ]
  },
  {
   "cell_type": "code",
   "execution_count": 87,
   "metadata": {},
   "outputs": [],
   "source": [
    "headers =  'Site,Date,Time,Water Level,Prediction,Residual\\n'\n",
    "filename = 'Storm_Tide_Data.csv'\n",
    "f = open(filename, 'w')\n",
    "f.write(headers)\n",
    "\n",
    "for record in records:\n",
    "    row_string = ''                      #make new string\n",
    "    row_string += record['Site'] + ','    #add value and comma to string\n",
    "    row_string += record['DateTime'][0:10] + ','\n",
    "    row_string += record['DateTime'][11:-1] + ','\n",
    "    row_string += str(record['Water Level']) + ',' #convert floats into strings\n",
    "    row_string += str(record['Prediction']) + ','\n",
    "    row_string += str(record['Residual']) + '\\n'  #add a new line, no comma\n",
    "    f.write(row_string)               #write row to CSV\n",
    "\n",
    "f.close()\n"
   ]
  }
 ],
 "metadata": {
  "kernelspec": {
   "display_name": "base",
   "language": "python",
   "name": "python3"
  },
  "language_info": {
   "codemirror_mode": {
    "name": "ipython",
    "version": 3
   },
   "file_extension": ".py",
   "mimetype": "text/x-python",
   "name": "python",
   "nbconvert_exporter": "python",
   "pygments_lexer": "ipython3",
   "version": "3.10.11"
  },
  "orig_nbformat": 4
 },
 "nbformat": 4,
 "nbformat_minor": 2
}
